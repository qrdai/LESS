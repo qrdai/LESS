{
 "cells": [
  {
   "cell_type": "code",
   "execution_count": 1,
   "metadata": {},
   "outputs": [],
   "source": [
    "import torch\n",
    "\n",
    "# Example tensor\n",
    "tensor = torch.randn(2, 3)  # Create a random tensor\n",
    "\n",
    "# Save tensor\n",
    "torch.save(tensor, 'example_tensor.pt')\n",
    "\n",
    "# Example model\n",
    "model = torch.nn.Linear(2, 3)  # A simple linear model\n",
    "torch.save(model.state_dict(), 'model_weights.pt')  # Save model's state dictionary\n"
   ]
  }
 ],
 "metadata": {
  "kernelspec": {
   "display_name": "less",
   "language": "python",
   "name": "python3"
  },
  "language_info": {
   "codemirror_mode": {
    "name": "ipython",
    "version": 3
   },
   "file_extension": ".py",
   "mimetype": "text/x-python",
   "name": "python",
   "nbconvert_exporter": "python",
   "pygments_lexer": "ipython3",
   "version": "3.11.4"
  }
 },
 "nbformat": 4,
 "nbformat_minor": 2
}
